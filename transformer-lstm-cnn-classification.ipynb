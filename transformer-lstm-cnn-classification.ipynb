{
 "cells": [
  {
   "cell_type": "markdown",
   "id": "e2fe91e7",
   "metadata": {},
   "source": [
    "\n",
    "Zadanie polega na stworzeniu modelu, który będzie klasyfikował liczbę gwiazdek przyznanych hotelowi (rating, klasa = liczba_gwiazdek - 1) na podstawie recenzji, jaką otrzymał (review).\n",
    "Wszelkie chwyty dozwolone :) Mogą Państwo przewidywać klasy w oparciu o klasyczną metodę bag of words, inne metody reprezentacji dokumentów (np. TF-IDF), korzystać z embeddingów, gotowych modeli językowych itd. Do dyspozycji mają Państwo dane treningowe, oczekuję od Państwa pliku csv z wygenerowanymi predykcjami.\n",
    "Proszę zwrócić uwagę na fakt, że jest to problem klasyfikacji wieloklasowej z mocno niezbalansowanym zbiorem danych!\n",
    "Proszę także Państwa o przetestowanie kilku (co najmniej trzech) podejść do klasyfikacji - mogą (ale nie muszą!) być to gotowe modele, najlepiej o różnych architekturach.\n",
    "\n",
    "Bardzo proszę, żeby zwrócili mi Państwo archiwum zip (wystarczy jedna osoba z zespołu), proszę też o zastosowanie się do instrukcji:\n",
    "- Archiwum i wszystkie pliki powinny być nazwane {poniedzialek/piatek}_nazwisko1_nazwisko2\n",
    "- W archiwum proszę (bez zbędnych podfolderów!) umieścić pliki ze swoim kodem i testowe predykcje nazwane zgodnie z sekwencją  {poniedzialek/piatek}_nazwisko1_nazwisko2.csv\n",
    "- Testowe predykcje powinny mieć kolejność zgodną z kolejnością sekwencji, do których się odnoszą w zbiorze testowym. Plik csv nie powinien mieć nagłówka ani indeksów."
   ]
  },
  {
   "cell_type": "code",
   "execution_count": 1,
   "id": "initial_id",
   "metadata": {
    "ExecuteTime": {
     "end_time": "2024-06-12T16:55:00.013406500Z",
     "start_time": "2024-06-12T16:54:59.995897600Z"
    },
    "collapsed": true
   },
   "outputs": [],
   "source": [
    "import matplotlib.pyplot as plt\n",
    "import numpy as np\n",
    "import pandas as pd\n",
    "import torch\n",
    "import torch.nn as nn\n",
    "import torch.nn.functional as F\n",
    "import torch.optim as optim\n",
    "import torch.utils.data as data\n",
    "from torch.optim import Adam\n",
    "from torch.utils.data import Dataset, DataLoader\n",
    "from transformers import BertTokenizer, BertForSequenceClassification, AdamW, get_linear_schedule_with_warmup, AutoTokenizer, AutoModelForSeq2SeqLM\n",
    "from sklearn.model_selection import train_test_split\n",
    "from sklearn.metrics import mean_squared_error\n",
    "from sklearn.metrics import accuracy_score\n",
    "import evaluate\n",
    "from tqdm import tqdm\n",
    "import math\n",
    "import random"
   ]
  },
  {
   "cell_type": "code",
   "execution_count": 2,
   "id": "de0926f0",
   "metadata": {},
   "outputs": [],
   "source": [
    "random.seed(42)"
   ]
  },
  {
   "cell_type": "code",
   "execution_count": 3,
   "id": "40ca9f194e060b32",
   "metadata": {
    "ExecuteTime": {
     "end_time": "2024-06-12T16:55:00.225410900Z",
     "start_time": "2024-06-12T16:55:00.222995200Z"
    },
    "collapsed": false
   },
   "outputs": [
    {
     "data": {
      "text/plain": [
       "device(type='cuda')"
      ]
     },
     "execution_count": 3,
     "metadata": {},
     "output_type": "execute_result"
    }
   ],
   "source": [
    "device = torch.device(\"cuda\" if torch.cuda.is_available() else \"cpu\") \n",
    "device"
   ]
  },
  {
   "cell_type": "code",
   "execution_count": 4,
   "id": "65e6ffd8efb05ea3",
   "metadata": {
    "ExecuteTime": {
     "end_time": "2024-06-12T16:55:00.555872Z",
     "start_time": "2024-06-12T16:55:00.439049800Z"
    },
    "collapsed": false
   },
   "outputs": [
    {
     "data": {
      "text/html": [
       "<div>\n",
       "<style scoped>\n",
       "    .dataframe tbody tr th:only-of-type {\n",
       "        vertical-align: middle;\n",
       "    }\n",
       "\n",
       "    .dataframe tbody tr th {\n",
       "        vertical-align: top;\n",
       "    }\n",
       "\n",
       "    .dataframe thead th {\n",
       "        text-align: right;\n",
       "    }\n",
       "</style>\n",
       "<table border=\"1\" class=\"dataframe\">\n",
       "  <thead>\n",
       "    <tr style=\"text-align: right;\">\n",
       "      <th></th>\n",
       "      <th>review</th>\n",
       "      <th>rating</th>\n",
       "      <th>class</th>\n",
       "    </tr>\n",
       "  </thead>\n",
       "  <tbody>\n",
       "    <tr>\n",
       "      <th>0</th>\n",
       "      <td>location not palace excellent hotel booke dthe...</td>\n",
       "      <td>4</td>\n",
       "      <td>4</td>\n",
       "    </tr>\n",
       "    <tr>\n",
       "      <th>1</th>\n",
       "      <td>respite definitely not place stay looking ultr...</td>\n",
       "      <td>3</td>\n",
       "      <td>3</td>\n",
       "    </tr>\n",
       "    <tr>\n",
       "      <th>2</th>\n",
       "      <td>stunning truly memorable spot right beach nusa...</td>\n",
       "      <td>4</td>\n",
       "      <td>4</td>\n",
       "    </tr>\n",
       "    <tr>\n",
       "      <th>3</th>\n",
       "      <td>solid business hotel near embassy stayed hotel...</td>\n",
       "      <td>3</td>\n",
       "      <td>3</td>\n",
       "    </tr>\n",
       "    <tr>\n",
       "      <th>4</th>\n",
       "      <td>nice place make sure lock money warning money ...</td>\n",
       "      <td>3</td>\n",
       "      <td>3</td>\n",
       "    </tr>\n",
       "  </tbody>\n",
       "</table>\n",
       "</div>"
      ],
      "text/plain": [
       "                                              review  rating  class\n",
       "0  location not palace excellent hotel booke dthe...       4      4\n",
       "1  respite definitely not place stay looking ultr...       3      3\n",
       "2  stunning truly memorable spot right beach nusa...       4      4\n",
       "3  solid business hotel near embassy stayed hotel...       3      3\n",
       "4  nice place make sure lock money warning money ...       3      3"
      ]
     },
     "execution_count": 4,
     "metadata": {},
     "output_type": "execute_result"
    }
   ],
   "source": [
    "df_train_data = pd.read_csv(\"train_data.csv\")\n",
    "df_train_data[\"rating\"].astype(float)\n",
    "df_train_data[\"class\"] = df_train_data[\"rating\"]\n",
    "classes_num = len(df_train_data[\"class\"].unique())\n",
    "df_train_data.head()"
   ]
  },
  {
   "cell_type": "code",
   "execution_count": 5,
   "id": "7059d1fc",
   "metadata": {
    "ExecuteTime": {
     "end_time": "2024-06-12T16:55:00.655894700Z",
     "start_time": "2024-06-12T16:55:00.557872600Z"
    }
   },
   "outputs": [
    {
     "data": {
      "image/png": "[encoded data removed]",
      "text/plain": [
       "<Figure size 640x480 with 1 Axes>"
      ]
     },
     "metadata": {},
     "output_type": "display_data"
    }
   ],
   "source": [
    "fig = plt.Figure()\n",
    "plt.hist(df_train_data[\"class\"].values)\n",
    "plt.title(\"Dataset distribution\")\n",
    "plt.xticks([0,1,2,3,4])\n",
    "plt.show()"
   ]
  },
  {
   "cell_type": "code",
   "execution_count": 6,
   "id": "c22293f3",
   "metadata": {
    "ExecuteTime": {
     "end_time": "2024-06-12T16:55:00.711377700Z",
     "start_time": "2024-06-12T16:55:00.674898700Z"
    }
   },
   "outputs": [],
   "source": [
    "reviews = df_train_data['review'].tolist()\n",
    "ratings = df_train_data['rating'].tolist()\n",
    "train_texts, val_texts, train_labels, val_labels = train_test_split(reviews, ratings, test_size=0.2,random_state=42)"
   ]
  },
  {
   "cell_type": "code",
   "execution_count": 7,
   "id": "50d44679",
   "metadata": {},
   "outputs": [
    {
     "data": {
      "image/png": "[encoded data removed]",
      "text/plain": [
       "<Figure size 640x480 with 1 Axes>"
      ]
     },
     "metadata": {},
     "output_type": "display_data"
    }
   ],
   "source": [
    "fig = plt.Figure()\n",
    "plt.hist(train_labels)\n",
    "plt.title(\"Train dataset distribution (80 %)\")\n",
    "plt.xticks([0,1,2,3,4])\n",
    "plt.show()"
   ]
  },
  {
   "cell_type": "code",
   "execution_count": 8,
   "id": "09783ce6",
   "metadata": {},
   "outputs": [],
   "source": [
    "# model i tokenizer użyty to parafrazowania klas o mniejszej reprezentacji\n",
    "tokenizer_t2t = AutoTokenizer.from_pretrained(\"humarin/chatgpt_paraphraser_on_T5_base\")\n",
    "model_t2t = AutoModelForSeq2SeqLM.from_pretrained(\"humarin/chatgpt_paraphraser_on_T5_base\").to(device)\n",
    "\n",
    "\n",
    "def paraphrase(\n",
    "    question,\n",
    "    num_beams=5,\n",
    "    num_beam_groups=5,\n",
    "    num_return_sequences=5,\n",
    "    repetition_penalty=10.0,\n",
    "    diversity_penalty=3.0,\n",
    "    no_repeat_ngram_size=2,\n",
    "    temperature=0.7,\n",
    "    max_length=64,\n",
    "):\n",
    "    input_ids = tokenizer_t2t(\n",
    "        f'paraphrase: {question}',\n",
    "        return_tensors=\"pt\", padding=\"longest\",\n",
    "        max_length=max_length,\n",
    "        truncation=True,\n",
    "    ).input_ids.to(device)\n",
    "    \n",
    "    outputs = model_t2t.generate(\n",
    "        input_ids, temperature=temperature, repetition_penalty=repetition_penalty,\n",
    "        num_return_sequences=num_return_sequences, no_repeat_ngram_size=no_repeat_ngram_size,\n",
    "        num_beams=num_beams, num_beam_groups=num_beam_groups,\n",
    "        max_length=max_length, diversity_penalty=diversity_penalty\n",
    "    )\n",
    "\n",
    "    res = tokenizer_t2t.batch_decode(outputs, skip_special_tokens=True)\n",
    "\n",
    "    return res\n"
   ]
  },
  {
   "cell_type": "code",
   "execution_count": 9,
   "id": "ee2177f4",
   "metadata": {},
   "outputs": [],
   "source": [
    "# Zajmuje dużo czasu, więc trzeba wyeksportować\n",
    "# max_count = len([index for index, value in enumerate(train_labels) if value == 4])\n",
    "# new_sentences = []\n",
    "# new_labels = []\n",
    "\n",
    "# for class_num in [0,1,2]:\n",
    "#     indices = [index for index, value in enumerate(train_labels) if value == class_num]\n",
    "#     paraphrases_num = math.floor(max_count/len(indices))\n",
    "#     sentences = [train_texts[i] for i in indices]\n",
    "#     for sentence in tqdm(sentences):\n",
    "#         result = paraphrase(sentence, num_beams=paraphrases_num, num_beam_groups=paraphrases_num, num_return_sequences=paraphrases_num)\n",
    "#         new_sentences.extend(result)\n",
    "#         new_labels.extend([class_num]*paraphrases_num)\n",
    "    \n",
    "\n",
    "\n"
   ]
  },
  {
   "cell_type": "code",
   "execution_count": 10,
   "id": "18357b21",
   "metadata": {},
   "outputs": [],
   "source": [
    "# new_train_texts = train_texts\n",
    "# new_train_texts.extend(new_sentences)\n",
    "# new_train_labels = train_labels\n",
    "# new_train_labels.extend(new_labels)\n",
    "\n",
    "# paraphrased_df = pd.DataFrame({\"review\":new_train_texts, \"rating\":new_train_labels})\n",
    "# paraphrased_df.to_csv(\"paraphrased_train.csv\", index=None)"
   ]
  },
  {
   "cell_type": "code",
   "execution_count": 11,
   "id": "3bbf0b95",
   "metadata": {},
   "outputs": [],
   "source": [
    "# Wczytanie zrównoważonego datasetu\n",
    "paraphrased_df = pd.read_csv(\"paraphrased_train.csv\")\n",
    "paraphrased_df[\"rating\"].astype(float)\n",
    "\n",
    "train_texts_long = paraphrased_df[\"review\"].tolist()\n",
    "train_labels_long = paraphrased_df[\"rating\"].tolist()"
   ]
  },
  {
   "cell_type": "code",
   "execution_count": 12,
   "id": "cf0673ff",
   "metadata": {},
   "outputs": [
    {
     "data": {
      "image/png": "[encoded data removed]",
      "text/plain": [
       "<Figure size 640x480 with 1 Axes>"
      ]
     },
     "metadata": {},
     "output_type": "display_data"
    }
   ],
   "source": [
    "fig = plt.Figure()\n",
    "plt.hist(train_labels_long)\n",
    "plt.title(\"Train dataset distribution with paraphresed reviews\")\n",
    "plt.xticks([0,1,2,3,4])\n",
    "plt.show()"
   ]
  },
  {
   "cell_type": "code",
   "execution_count": 13,
   "id": "42abd229",
   "metadata": {
    "ExecuteTime": {
     "end_time": "2024-06-12T16:55:01.003416300Z",
     "start_time": "2024-06-12T16:55:00.820262700Z"
    }
   },
   "outputs": [
    {
     "data": {
      "text/plain": [
       "BertTokenizer(name_or_path='bert-base-uncased', vocab_size=30522, model_max_length=512, is_fast=False, padding_side='right', truncation_side='right', special_tokens={'unk_token': '[UNK]', 'sep_token': '[SEP]', 'pad_token': '[PAD]', 'cls_token': '[CLS]', 'mask_token': '[MASK]'}, clean_up_tokenization_spaces=True),  added_tokens_decoder={\n",
       "\t0: AddedToken(\"[PAD]\", rstrip=False, lstrip=False, single_word=False, normalized=False, special=True),\n",
       "\t100: AddedToken(\"[UNK]\", rstrip=False, lstrip=False, single_word=False, normalized=False, special=True),\n",
       "\t101: AddedToken(\"[CLS]\", rstrip=False, lstrip=False, single_word=False, normalized=False, special=True),\n",
       "\t102: AddedToken(\"[SEP]\", rstrip=False, lstrip=False, single_word=False, normalized=False, special=True),\n",
       "\t103: AddedToken(\"[MASK]\", rstrip=False, lstrip=False, single_word=False, normalized=False, special=True),\n",
       "}"
      ]
     },
     "execution_count": 13,
     "metadata": {},
     "output_type": "execute_result"
    }
   ],
   "source": [
    "tokenizer = BertTokenizer.from_pretrained('bert-base-uncased')\n",
    "tokenizer"
   ]
  },
  {
   "cell_type": "code",
   "execution_count": 14,
   "id": "f633e8b6",
   "metadata": {
    "ExecuteTime": {
     "end_time": "2024-06-12T18:16:47.899830700Z",
     "start_time": "2024-06-12T18:16:47.869317800Z"
    }
   },
   "outputs": [],
   "source": [
    "# max len znacznie wydluza czas uczenia\n",
    "class MaskedAttentionDataset(Dataset):\n",
    "    def __init__(self, texts, labels, tokenizer, max_len=64):\n",
    "        self.texts = texts\n",
    "        self.labels = labels\n",
    "        self.tokenizer = tokenizer\n",
    "        self.max_len = max_len\n",
    "    \n",
    "    def __len__(self):\n",
    "        return len(self.texts)\n",
    "    \n",
    "    def __getitem__(self, item):\n",
    "        text = str(self.texts[item])\n",
    "        label = self.labels[item]\n",
    "        \n",
    "        encoding = self.tokenizer.encode_plus(\n",
    "            text,\n",
    "            add_special_tokens=True,\n",
    "            max_length=self.max_len,\n",
    "            return_token_type_ids=False,\n",
    "            padding='max_length',\n",
    "            truncation=True,\n",
    "            return_attention_mask=True,\n",
    "            return_tensors='pt',\n",
    "        )\n",
    "        \n",
    "        return {\n",
    "            'review': text,\n",
    "            'input_ids': encoding['input_ids'].flatten(),\n",
    "            'attention_mask': encoding['attention_mask'].flatten(),\n",
    "            'labels': torch.tensor(label, dtype=torch.float)\n",
    "        }"
   ]
  },
  {
   "cell_type": "code",
   "execution_count": 15,
   "id": "6b8705c9",
   "metadata": {
    "ExecuteTime": {
     "end_time": "2024-06-12T16:55:01.213492600Z",
     "start_time": "2024-06-12T16:55:01.206979Z"
    }
   },
   "outputs": [],
   "source": [
    "# train_dataset_att = MaskedAttentionDataset(train_texts, train_labels, tokenizer)\n",
    "train_dataset_att = MaskedAttentionDataset(train_texts_long, train_labels_long, tokenizer)\n",
    "\n",
    "val_dataset_att = MaskedAttentionDataset(val_texts, val_labels, tokenizer)\n",
    "train_loader_att = DataLoader(train_dataset_att, batch_size=256, shuffle=True)\n",
    "val_loader_att = DataLoader(val_dataset_att, batch_size=256, shuffle=False)"
   ]
  },
  {
   "cell_type": "code",
   "execution_count": 16,
   "id": "933fa876",
   "metadata": {
    "ExecuteTime": {
     "end_time": "2024-06-12T16:55:01.858715800Z",
     "start_time": "2024-06-12T16:55:01.665436700Z"
    }
   },
   "outputs": [],
   "source": [
    "# next(iter(train_loader_att))"
   ]
  },
  {
   "cell_type": "markdown",
   "id": "1106982c2dbb0f01",
   "metadata": {
    "collapsed": false
   },
   "source": [
    "## Transformer (BERT)"
   ]
  },
  {
   "cell_type": "code",
   "execution_count": 21,
   "id": "4e785879",
   "metadata": {},
   "outputs": [
    {
     "name": "stderr",
     "output_type": "stream",
     "text": [
      "Some weights of BertForSequenceClassification were not initialized from the model checkpoint at bert-base-uncased and are newly initialized: ['classifier.bias', 'classifier.weight']\n",
      "You should probably TRAIN this model on a down-stream task to be able to use it for predictions and inference.\n"
     ]
    }
   ],
   "source": [
    "model = BertForSequenceClassification.from_pretrained('bert-base-uncased', num_labels=classes_num).to(device)\n",
    "# Trening tylko dla ostatniej warstwy\n",
    "for param in model.parameters():\n",
    "    param.requires_grad = False\n",
    "\n",
    "for param in model.classifier.parameters():\n",
    "    param.requires_grad=True"
   ]
  },
  {
   "cell_type": "code",
   "execution_count": 22,
   "id": "d2a6acd9",
   "metadata": {},
   "outputs": [
    {
     "data": {
      "text/plain": [
       "BertForSequenceClassification(\n",
       "  (bert): BertModel(\n",
       "    (embeddings): BertEmbeddings(\n",
       "      (word_embeddings): Embedding(30522, 768, padding_idx=0)\n",
       "      (position_embeddings): Embedding(512, 768)\n",
       "      (token_type_embeddings): Embedding(2, 768)\n",
       "      (LayerNorm): LayerNorm((768,), eps=1e-12, elementwise_affine=True)\n",
       "      (dropout): Dropout(p=0.1, inplace=False)\n",
       "    )\n",
       "    (encoder): BertEncoder(\n",
       "      (layer): ModuleList(\n",
       "        (0-11): 12 x BertLayer(\n",
       "          (attention): BertAttention(\n",
       "            (self): BertSdpaSelfAttention(\n",
       "              (query): Linear(in_features=768, out_features=768, bias=True)\n",
       "              (key): Linear(in_features=768, out_features=768, bias=True)\n",
       "              (value): Linear(in_features=768, out_features=768, bias=True)\n",
       "              (dropout): Dropout(p=0.1, inplace=False)\n",
       "            )\n",
       "            (output): BertSelfOutput(\n",
       "              (dense): Linear(in_features=768, out_features=768, bias=True)\n",
       "              (LayerNorm): LayerNorm((768,), eps=1e-12, elementwise_affine=True)\n",
       "              (dropout): Dropout(p=0.1, inplace=False)\n",
       "            )\n",
       "          )\n",
       "          (intermediate): BertIntermediate(\n",
       "            (dense): Linear(in_features=768, out_features=3072, bias=True)\n",
       "            (intermediate_act_fn): GELUActivation()\n",
       "          )\n",
       "          (output): BertOutput(\n",
       "            (dense): Linear(in_features=3072, out_features=768, bias=True)\n",
       "            (LayerNorm): LayerNorm((768,), eps=1e-12, elementwise_affine=True)\n",
       "            (dropout): Dropout(p=0.1, inplace=False)\n",
       "          )\n",
       "        )\n",
       "      )\n",
       "    )\n",
       "    (pooler): BertPooler(\n",
       "      (dense): Linear(in_features=768, out_features=768, bias=True)\n",
       "      (activation): Tanh()\n",
       "    )\n",
       "  )\n",
       "  (dropout): Dropout(p=0.1, inplace=False)\n",
       "  (classifier): Linear(in_features=768, out_features=5, bias=True)\n",
       ")"
      ]
     },
     "execution_count": 22,
     "metadata": {},
     "output_type": "execute_result"
    }
   ],
   "source": [
    "model"
   ]
  },
  {
   "cell_type": "code",
   "execution_count": 23,
   "id": "0c361a77",
   "metadata": {
    "ExecuteTime": {
     "end_time": "2024-06-12T16:55:03.385691600Z",
     "start_time": "2024-06-12T16:55:02.687479900Z"
    }
   },
   "outputs": [],
   "source": [
    "optimizer = Adam(model.parameters(), lr=0.002)\n",
    "loss_fn = nn.CrossEntropyLoss()"
   ]
  },
  {
   "cell_type": "code",
   "execution_count": 24,
   "id": "f894e11bb389ad8e",
   "metadata": {
    "ExecuteTime": {
     "end_time": "2024-06-12T17:20:22.093112500Z",
     "start_time": "2024-06-12T16:55:03.792182500Z"
    },
    "collapsed": false
   },
   "outputs": [
    {
     "name": "stdout",
     "output_type": "stream",
     "text": [
      "Epoch num: 1/20\n"
     ]
    },
    {
     "name": "stderr",
     "output_type": "stream",
     "text": [
      "100%|██████████| 117/117 [00:57<00:00,  2.04it/s]\n"
     ]
    },
    {
     "name": "stdout",
     "output_type": "stream",
     "text": [
      "Validation Loss: 1.395862029148982, Validation Accuracy: 0.43915827996340345\n",
      "Epoch num: 2/20\n"
     ]
    },
    {
     "name": "stderr",
     "output_type": "stream",
     "text": [
      "100%|██████████| 117/117 [00:56<00:00,  2.08it/s]\n"
     ]
    },
    {
     "name": "stdout",
     "output_type": "stream",
     "text": [
      "Validation Loss: 1.2872045040130615, Validation Accuracy: 0.46538578835010674\n",
      "Epoch num: 3/20\n"
     ]
    },
    {
     "name": "stderr",
     "output_type": "stream",
     "text": [
      "100%|██████████| 117/117 [00:56<00:00,  2.07it/s]\n"
     ]
    },
    {
     "name": "stdout",
     "output_type": "stream",
     "text": [
      "Validation Loss: 1.264623000071599, Validation Accuracy: 0.45806648368405\n",
      "Epoch num: 4/20\n"
     ]
    },
    {
     "name": "stderr",
     "output_type": "stream",
     "text": [
      "100%|██████████| 117/117 [00:56<00:00,  2.08it/s]\n"
     ]
    },
    {
     "name": "stdout",
     "output_type": "stream",
     "text": [
      "Validation Loss: 1.2182108347232525, Validation Accuracy: 0.4855138761817627\n",
      "Epoch num: 5/20\n"
     ]
    },
    {
     "name": "stderr",
     "output_type": "stream",
     "text": [
      "100%|██████████| 117/117 [00:56<00:00,  2.07it/s]\n"
     ]
    },
    {
     "name": "stdout",
     "output_type": "stream",
     "text": [
      "Validation Loss: 1.2338473430046668, Validation Accuracy: 0.4672156145166209\n",
      "Epoch num: 6/20\n"
     ]
    },
    {
     "name": "stderr",
     "output_type": "stream",
     "text": [
      "100%|██████████| 117/117 [00:56<00:00,  2.07it/s]\n"
     ]
    },
    {
     "name": "stdout",
     "output_type": "stream",
     "text": [
      "Validation Loss: 1.2003697156906128, Validation Accuracy: 0.48368405001524856\n",
      "Epoch num: 7/20\n"
     ]
    },
    {
     "name": "stderr",
     "output_type": "stream",
     "text": [
      "100%|██████████| 117/117 [00:56<00:00,  2.08it/s]\n"
     ]
    },
    {
     "name": "stdout",
     "output_type": "stream",
     "text": [
      "Validation Loss: 1.2110696480824397, Validation Accuracy: 0.4800243976822202\n",
      "Epoch num: 8/20\n"
     ]
    },
    {
     "name": "stderr",
     "output_type": "stream",
     "text": [
      "100%|██████████| 117/117 [00:56<00:00,  2.07it/s]\n"
     ]
    },
    {
     "name": "stdout",
     "output_type": "stream",
     "text": [
      "Validation Loss: 1.1816062377049372, Validation Accuracy: 0.4943580359865813\n",
      "Epoch num: 9/20\n"
     ]
    },
    {
     "name": "stderr",
     "output_type": "stream",
     "text": [
      "100%|██████████| 117/117 [00:56<00:00,  2.07it/s]\n"
     ]
    },
    {
     "name": "stdout",
     "output_type": "stream",
     "text": [
      "Validation Loss: 1.1632459438764131, Validation Accuracy: 0.4977127172918573\n",
      "Epoch num: 10/20\n"
     ]
    },
    {
     "name": "stderr",
     "output_type": "stream",
     "text": [
      "100%|██████████| 117/117 [00:56<00:00,  2.06it/s]\n"
     ]
    },
    {
     "name": "stdout",
     "output_type": "stream",
     "text": [
      "Validation Loss: 1.1866787030146673, Validation Accuracy: 0.471485208905154\n",
      "Epoch num: 11/20\n"
     ]
    },
    {
     "name": "stderr",
     "output_type": "stream",
     "text": [
      "100%|██████████| 117/117 [00:55<00:00,  2.09it/s]\n"
     ]
    },
    {
     "name": "stdout",
     "output_type": "stream",
     "text": [
      "Validation Loss: 1.1561354673825777, Validation Accuracy: 0.4992375724306191\n",
      "Epoch num: 12/20\n"
     ]
    },
    {
     "name": "stderr",
     "output_type": "stream",
     "text": [
      "100%|██████████| 117/117 [00:56<00:00,  2.07it/s]\n"
     ]
    },
    {
     "name": "stdout",
     "output_type": "stream",
     "text": [
      "Validation Loss: 1.1672760798380926, Validation Accuracy: 0.4855138761817627\n",
      "Epoch num: 13/20\n"
     ]
    },
    {
     "name": "stderr",
     "output_type": "stream",
     "text": [
      "100%|██████████| 117/117 [01:01<00:00,  1.90it/s]\n"
     ]
    },
    {
     "name": "stdout",
     "output_type": "stream",
     "text": [
      "Validation Loss: 1.1703618122981145, Validation Accuracy: 0.494967978042086\n",
      "Epoch num: 14/20\n"
     ]
    },
    {
     "name": "stderr",
     "output_type": "stream",
     "text": [
      "100%|██████████| 117/117 [01:57<00:00,  1.00s/it]\n"
     ]
    },
    {
     "name": "stdout",
     "output_type": "stream",
     "text": [
      "Validation Loss: 1.152577748665443, Validation Accuracy: 0.5035071668191522\n",
      "Epoch num: 15/20\n"
     ]
    },
    {
     "name": "stderr",
     "output_type": "stream",
     "text": [
      "100%|██████████| 117/117 [01:54<00:00,  1.02it/s]\n"
     ]
    },
    {
     "name": "stdout",
     "output_type": "stream",
     "text": [
      "Validation Loss: 1.1427407631507287, Validation Accuracy: 0.5068618481244281\n",
      "Epoch num: 16/20\n"
     ]
    },
    {
     "name": "stderr",
     "output_type": "stream",
     "text": [
      "100%|██████████| 117/117 [01:52<00:00,  1.04it/s]\n"
     ]
    },
    {
     "name": "stdout",
     "output_type": "stream",
     "text": [
      "Validation Loss: 1.244367425258343, Validation Accuracy: 0.4059164379383959\n",
      "Epoch num: 17/20\n"
     ]
    },
    {
     "name": "stderr",
     "output_type": "stream",
     "text": [
      "100%|██████████| 117/117 [01:55<00:00,  1.02it/s]\n"
     ]
    },
    {
     "name": "stdout",
     "output_type": "stream",
     "text": [
      "Validation Loss: 1.144939165848952, Validation Accuracy: 0.5044220799024093\n",
      "Epoch num: 18/20\n"
     ]
    },
    {
     "name": "stderr",
     "output_type": "stream",
     "text": [
      "100%|██████████| 117/117 [01:49<00:00,  1.07it/s]\n"
     ]
    },
    {
     "name": "stdout",
     "output_type": "stream",
     "text": [
      "Validation Loss: 1.1591169559038603, Validation Accuracy: 0.4910033546813053\n",
      "Epoch num: 19/20\n"
     ]
    },
    {
     "name": "stderr",
     "output_type": "stream",
     "text": [
      "100%|██████████| 117/117 [01:51<00:00,  1.05it/s]\n"
     ]
    },
    {
     "name": "stdout",
     "output_type": "stream",
     "text": [
      "Validation Loss: 1.1372821789521437, Validation Accuracy: 0.5025922537358951\n",
      "Epoch num: 20/20\n"
     ]
    },
    {
     "name": "stderr",
     "output_type": "stream",
     "text": [
      "100%|██████████| 117/117 [01:56<00:00,  1.00it/s]\n"
     ]
    },
    {
     "name": "stdout",
     "output_type": "stream",
     "text": [
      "Validation Loss: 1.1455393020923321, Validation Accuracy: 0.5099115584019518\n"
     ]
    },
    {
     "data": {
      "image/png": "[encoded data removed]",
      "text/plain": [
       "<Figure size 1200x500 with 2 Axes>"
      ]
     },
     "metadata": {},
     "output_type": "display_data"
    }
   ],
   "source": [
    "train_losses = []\n",
    "val_losses = []\n",
    "val_accuracies = []\n",
    "\n",
    "num_epochs = 20\n",
    "for epoch in range(num_epochs):\n",
    "    model.train()\n",
    "    losses = []\n",
    "    print(\"Epoch num: %s/%s\" %(epoch+1, num_epochs))\n",
    "    for batch in tqdm(train_loader_att):\n",
    "        optimizer.zero_grad()\n",
    "        input_ids = batch[\"input_ids\"].to(device)\n",
    "        attention_mask = batch[\"attention_mask\"].to(device)\n",
    "        labels = batch[\"labels\"].to(device).long()\n",
    "        outputs = model(input_ids=input_ids, attention_mask=attention_mask)\n",
    "        preds = outputs.logits\n",
    "        loss = loss_fn(preds, labels)\n",
    "        losses.append(loss.item())\n",
    "        loss.backward()\n",
    "        optimizer.step()\n",
    "    train_losses.append(np.mean(losses))\n",
    "\n",
    "    model.eval()\n",
    "    val_loss = 0\n",
    "    val_steps = 0\n",
    "    val_preds = []\n",
    "    val_labels_list = []\n",
    "    with torch.no_grad():\n",
    "        for batch in val_loader_att:\n",
    "            input_ids = batch[\"input_ids\"].to(device)\n",
    "            attention_mask = batch[\"attention_mask\"].to(device)\n",
    "            labels = batch[\"labels\"].to(device).long()\n",
    "            outputs = model(input_ids=input_ids, attention_mask=attention_mask)\n",
    "            preds = outputs.logits\n",
    "            loss = loss_fn(preds, labels)\n",
    "            val_loss += loss.item()\n",
    "            val_steps += 1\n",
    "\n",
    "            val_preds.extend(torch.argmax(preds, dim=1).cpu().numpy())\n",
    "            val_labels_list.extend(labels.cpu().numpy())\n",
    "\n",
    "    val_losses.append(val_loss / val_steps)\n",
    "    val_accuracy = accuracy_score(val_labels_list, val_preds)\n",
    "    val_accuracies.append(val_accuracy)\n",
    "    print(f\"Validation Loss: {val_loss / val_steps}, Validation Accuracy: {val_accuracy}\")\n",
    "\n",
    "plt.figure(figsize=(12, 5))\n",
    "\n",
    "plt.subplot(1, 2, 1)\n",
    "plt.plot(train_losses, label='Train Loss')\n",
    "plt.plot(val_losses, label='Validation Loss')\n",
    "plt.title('Loss over epochs')\n",
    "plt.xlabel('Epoch')\n",
    "plt.ylabel('Loss')\n",
    "plt.legend()\n",
    "\n",
    "plt.subplot(1, 2, 2)\n",
    "plt.plot(val_accuracies, label='Validation Accuracy')\n",
    "plt.title('Validation Accuracy over epochs')\n",
    "plt.xlabel('Epoch')\n",
    "plt.ylabel('Accuracy')\n",
    "plt.legend()\n",
    "\n",
    "plt.show()"
   ]
  },
  {
   "cell_type": "markdown",
   "id": "5bd5eeb8",
   "metadata": {},
   "source": [
    "#### Obserwacje dla modelu transformer:\n",
    "- 55% max co się udało uzyskać ze zwykłym datasetem\n",
    "- skrócenie maksymalnej długości encodingu do 32 nie pogroszyło dokładności, ale skróciło czas treningu jednej epoki\n",
    "- zamiana z modelu bert-base na bert-large nie poprawiło dokładności, ale znacznie wydłużyło czas treningu\n",
    "- trenowanie całości zamiast tylko ostatniej warstwy nie poprawiło dokładności, ale wydłużyło czas trenowania\n",
    "- dokłądność podczas treningu mocno skacze, co można poprawić, przez dłuższe uczenie z mniejszym lr\n",
    "- dodanie dodatkowych sparafrazowanych danych nieznacznie poprawiło dokładność"
   ]
  },
  {
   "cell_type": "code",
   "execution_count": null,
   "id": "c6bd38c4438fc776",
   "metadata": {
    "collapsed": false
   },
   "outputs": [],
   "source": [
    "# num_epochs = 10\n",
    "# for epoch in range(num_epochs):\n",
    "#     losses = []\n",
    "#     print(\"Epoch num: %s/%s\" %(epoch+1, num_epochs))\n",
    "#     for batch in tqdm(train_loader):\n",
    "#         model.train()\n",
    "#         optimizer.zero_grad()\n",
    "#         # review = batch[\"review\"].to(device)\n",
    "#         input_ids = batch[\"input_ids\"].to(device)\n",
    "#         attention_mask = batch[\"attention_mask\"].to(device)\n",
    "#         labels = batch[\"labels\"].to(device).long()\n",
    "#         outputs = model(input_ids=input_ids, attention_mask=attention_mask)\n",
    "#         preds = outputs.logits\n",
    "#         loss = loss_fn(preds, labels)\n",
    "#         losses.append(loss.item())\n",
    "#         loss.backward()\n",
    "#         optimizer.step()\n",
    "#     print(np.mean(losses))"
   ]
  },
  {
   "cell_type": "code",
   "execution_count": null,
   "id": "1fab1fb582761b97",
   "metadata": {
    "ExecuteTime": {
     "end_time": "2024-06-12T16:43:36.558821Z",
     "start_time": "2024-06-12T16:43:12.075632500Z"
    },
    "collapsed": false
   },
   "outputs": [],
   "source": [
    "# metric = evaluate.load(\"accuracy\")\n",
    "# model.eval()\n",
    "# for batch in val_loader:\n",
    "#     input_ids = batch[\"input_ids\"].to(device)\n",
    "#     attention_mask = batch[\"attention_mask\"].to(device)\n",
    "#     labels = batch[\"labels\"].to(device).long()\n",
    "#     with torch.no_grad():\n",
    "#         outputs = model(input_ids=input_ids, attention_mask=attention_mask)\n",
    "#         preds = outputs.logits\n",
    "#         predictions = torch.argmax(preds, dim=-1)\n",
    "#     metric.add_batch(predictions=predictions, references=labels)\n",
    "# metric.compute()"
   ]
  },
  {
   "cell_type": "markdown",
   "id": "ecb119b750a9c606",
   "metadata": {
    "collapsed": false
   },
   "source": [
    "## CNN"
   ]
  },
  {
   "cell_type": "code",
   "execution_count": 25,
   "id": "2c0cf983",
   "metadata": {},
   "outputs": [],
   "source": [
    "\n",
    "\n",
    "class TextDataset(Dataset):\n",
    "    def __init__(self, texts, labels, tokenizer, max_len=128):\n",
    "        self.texts = texts\n",
    "        self.labels = labels\n",
    "        self.tokenizer = tokenizer\n",
    "        self.max_len = max_len\n",
    "    \n",
    "    def __len__(self):\n",
    "        return len(self.texts)\n",
    "    \n",
    "    def __getitem__(self, item):\n",
    "        text = str(self.texts[item])\n",
    "        label = self.labels[item]\n",
    "        \n",
    "        encoding = self.tokenizer.encode_plus(\n",
    "            text,\n",
    "            add_special_tokens=True,\n",
    "            max_length=self.max_len,\n",
    "            return_token_type_ids=False,\n",
    "            padding='max_length',\n",
    "            truncation=True,\n",
    "            return_attention_mask=True,\n",
    "            return_tensors='pt',\n",
    "        )\n",
    "        \n",
    "        return {\n",
    "            'input_ids': encoding['input_ids'].flatten(),\n",
    "            'labels': torch.tensor(label, dtype=torch.long)\n",
    "        }\n",
    "\n"
   ]
  },
  {
   "cell_type": "code",
   "execution_count": 26,
   "id": "a0668ed6",
   "metadata": {},
   "outputs": [],
   "source": [
    "train_texts, val_texts, train_labels, val_labels = train_test_split(df_train_data['review'].tolist(), df_train_data['rating'].tolist(), test_size=0.2, random_state=42)\n",
    "\n",
    "tokenizer = BertTokenizer.from_pretrained('bert-base-uncased')\n",
    "\n",
    "train_dataset = TextDataset(train_texts, train_labels, tokenizer)\n",
    "# train_dataset = TextDataset(train_texts_long, train_labels_long, tokenizer)\n",
    "\n",
    "val_dataset = TextDataset(val_texts, val_labels, tokenizer)\n",
    "\n",
    "train_loader = DataLoader(train_dataset, batch_size=32, shuffle=True)\n",
    "val_loader = DataLoader(val_dataset, batch_size=32, shuffle=False)"
   ]
  },
  {
   "cell_type": "code",
   "execution_count": 27,
   "id": "b693ca1f26476ad1",
   "metadata": {
    "ExecuteTime": {
     "end_time": "2024-06-12T17:37:50.111358300Z",
     "start_time": "2024-06-12T17:37:50.087353700Z"
    },
    "collapsed": false
   },
   "outputs": [],
   "source": [
    "class CNN_Text(nn.Module):\n",
    "    def __init__(self, embed_num, embed_dim, class_num, kernel_num, kernel_sizes, dropout):\n",
    "        super(CNN_Text, self).__init__()\n",
    "        V = embed_num\n",
    "        D = embed_dim\n",
    "        C = class_num\n",
    "        Ci = 1\n",
    "        Co = kernel_num\n",
    "        Ks = kernel_sizes\n",
    "\n",
    "        self.embed = nn.Embedding(V, D)\n",
    "        self.convs1 = nn.ModuleList([nn.Conv2d(Ci, Co, (K, D)) for K in Ks])\n",
    "        self.dropout = nn.Dropout(dropout)\n",
    "        self.fc1 = nn.Linear(len(Ks) * Co, C)\n",
    "\n",
    "    def forward(self, x):\n",
    "        x = self.embed(x)  # (N, W, D)\n",
    "        x = x.unsqueeze(1)  # (N, Ci, W, D)\n",
    "        x = [F.relu(conv(x)).squeeze(3) for conv in self.convs1]  # [(N, Co, W), ...]*len(Ks)\n",
    "        x = [F.max_pool1d(i, i.size(2)).squeeze(2) for i in x]  # [(N, Co), ...]*len(Ks)\n",
    "        x = torch.cat(x, 1)\n",
    "        x = self.dropout(x)\n",
    "        logit = self.fc1(x)\n",
    "        return logit"
   ]
  },
  {
   "cell_type": "code",
   "execution_count": 29,
   "id": "7744ccf4ad20aaad",
   "metadata": {
    "ExecuteTime": {
     "end_time": "2024-06-12T17:37:50.762079300Z",
     "start_time": "2024-06-12T17:37:50.722184200Z"
    },
    "collapsed": false
   },
   "outputs": [],
   "source": [
    "vocab_size = tokenizer.vocab_size\n",
    "embed_dim = 128 # oryginalnie 128\n",
    "kernel_num = 100 # oryginalnie 100\n",
    "kernel_sizes = [3, 4, 5]\n",
    "dropout = 0.5\n",
    "class_num = classes_num\n",
    "\n",
    "model_cnn = CNN_Text(vocab_size, embed_dim, class_num, kernel_num, kernel_sizes, dropout).to(device)\n",
    "optimizer_cnn = optim.Adam(model_cnn.parameters(), lr=0.001, weight_decay=0.004)\n",
    "loss_fn = nn.CrossEntropyLoss()"
   ]
  },
  {
   "cell_type": "code",
   "execution_count": 30,
   "id": "5533031daf984c82",
   "metadata": {
    "ExecuteTime": {
     "end_time": "2024-06-12T17:42:48.879059800Z",
     "start_time": "2024-06-12T17:37:51.228654900Z"
    },
    "collapsed": false
   },
   "outputs": [
    {
     "name": "stderr",
     "output_type": "stream",
     "text": [
      "100%|██████████| 410/410 [00:53<00:00,  7.60it/s]\n"
     ]
    },
    {
     "name": "stdout",
     "output_type": "stream",
     "text": [
      "Epoch 1 / 50, Train Loss: 1.3172882215278905, Validation Loss: 1.15192561647267, Validation Accuracy: 0.4525770051845075\n"
     ]
    },
    {
     "name": "stderr",
     "output_type": "stream",
     "text": [
      "100%|██████████| 410/410 [00:52<00:00,  7.85it/s]\n"
     ]
    },
    {
     "name": "stdout",
     "output_type": "stream",
     "text": [
      "Epoch 2 / 50, Train Loss: 1.0868099404544365, Validation Loss: 1.0112352093446602, Validation Accuracy: 0.5739554742299482\n"
     ]
    },
    {
     "name": "stderr",
     "output_type": "stream",
     "text": [
      "100%|██████████| 410/410 [00:53<00:00,  7.61it/s]\n"
     ]
    },
    {
     "name": "stdout",
     "output_type": "stream",
     "text": [
      "Epoch 3 / 50, Train Loss: 1.016746684690801, Validation Loss: 0.97708846932476, Validation Accuracy: 0.5916437938395852\n"
     ]
    },
    {
     "name": "stderr",
     "output_type": "stream",
     "text": [
      "100%|██████████| 410/410 [00:53<00:00,  7.73it/s]\n"
     ]
    },
    {
     "name": "stdout",
     "output_type": "stream",
     "text": [
      "Epoch 4 / 50, Train Loss: 0.9810955998374195, Validation Loss: 0.9712146329648287, Validation Accuracy: 0.5980481854223849\n"
     ]
    },
    {
     "name": "stderr",
     "output_type": "stream",
     "text": [
      "100%|██████████| 410/410 [00:53<00:00,  7.64it/s]\n"
     ]
    },
    {
     "name": "stdout",
     "output_type": "stream",
     "text": [
      "Epoch 5 / 50, Train Loss: 0.9559265844705628, Validation Loss: 0.9581056798546059, Validation Accuracy: 0.6068923452272034\n"
     ]
    },
    {
     "name": "stderr",
     "output_type": "stream",
     "text": [
      "100%|██████████| 410/410 [00:52<00:00,  7.82it/s]\n"
     ]
    },
    {
     "name": "stdout",
     "output_type": "stream",
     "text": [
      "Epoch 6 / 50, Train Loss: 0.940584074433257, Validation Loss: 0.9457313777173607, Validation Accuracy: 0.6093321134492223\n"
     ]
    },
    {
     "name": "stderr",
     "output_type": "stream",
     "text": [
      "100%|██████████| 410/410 [00:54<00:00,  7.52it/s]\n"
     ]
    },
    {
     "name": "stdout",
     "output_type": "stream",
     "text": [
      "Epoch 7 / 50, Train Loss: 0.9298555179340083, Validation Loss: 0.926236868483349, Validation Accuracy: 0.6041476059774321\n"
     ]
    },
    {
     "name": "stderr",
     "output_type": "stream",
     "text": [
      "100%|██████████| 410/410 [00:51<00:00,  7.90it/s]\n"
     ]
    },
    {
     "name": "stdout",
     "output_type": "stream",
     "text": [
      "Epoch 8 / 50, Train Loss: 0.9136964597353121, Validation Loss: 0.9227376204092526, Validation Accuracy: 0.6184812442817932\n"
     ]
    },
    {
     "name": "stderr",
     "output_type": "stream",
     "text": [
      "100%|██████████| 410/410 [00:52<00:00,  7.77it/s]\n"
     ]
    },
    {
     "name": "stdout",
     "output_type": "stream",
     "text": [
      "Epoch 9 / 50, Train Loss: 0.9054950314324076, Validation Loss: 0.9186104443466779, Validation Accuracy: 0.6236657517535834\n"
     ]
    },
    {
     "name": "stderr",
     "output_type": "stream",
     "text": [
      "100%|██████████| 410/410 [00:52<00:00,  7.74it/s]\n"
     ]
    },
    {
     "name": "stdout",
     "output_type": "stream",
     "text": [
      "Epoch 10 / 50, Train Loss: 0.9048613115054805, Validation Loss: 0.9097027280955639, Validation Accuracy: 0.6132967368100031\n"
     ]
    },
    {
     "name": "stderr",
     "output_type": "stream",
     "text": [
      "100%|██████████| 410/410 [00:50<00:00,  8.09it/s]\n"
     ]
    },
    {
     "name": "stdout",
     "output_type": "stream",
     "text": [
      "Epoch 11 / 50, Train Loss: 0.8990526584590354, Validation Loss: 0.8996185070102655, Validation Accuracy: 0.623360780725831\n"
     ]
    },
    {
     "name": "stderr",
     "output_type": "stream",
     "text": [
      "100%|██████████| 410/410 [00:51<00:00,  7.98it/s]\n"
     ]
    },
    {
     "name": "stdout",
     "output_type": "stream",
     "text": [
      "Epoch 12 / 50, Train Loss: 0.8983075546055306, Validation Loss: 0.9036484783135571, Validation Accuracy: 0.6184812442817932\n"
     ]
    },
    {
     "name": "stderr",
     "output_type": "stream",
     "text": [
      "100%|██████████| 410/410 [00:50<00:00,  8.06it/s]\n"
     ]
    },
    {
     "name": "stdout",
     "output_type": "stream",
     "text": [
      "Epoch 13 / 50, Train Loss: 0.8961324249825826, Validation Loss: 0.8962426255050214, Validation Accuracy: 0.6224458676425739\n"
     ]
    },
    {
     "name": "stderr",
     "output_type": "stream",
     "text": [
      "100%|██████████| 410/410 [00:50<00:00,  8.19it/s]\n"
     ]
    },
    {
     "name": "stdout",
     "output_type": "stream",
     "text": [
      "Epoch 14 / 50, Train Loss: 0.8914574524251426, Validation Loss: 0.8912912693995874, Validation Accuracy: 0.6215309545593168\n"
     ]
    },
    {
     "name": "stderr",
     "output_type": "stream",
     "text": [
      "100%|██████████| 410/410 [00:48<00:00,  8.40it/s]\n"
     ]
    },
    {
     "name": "stdout",
     "output_type": "stream",
     "text": [
      "Epoch 15 / 50, Train Loss: 0.8885819337716917, Validation Loss: 0.8909290346127112, Validation Accuracy: 0.6294602012808783\n"
     ]
    },
    {
     "name": "stderr",
     "output_type": "stream",
     "text": [
      "100%|██████████| 410/410 [00:48<00:00,  8.46it/s]\n"
     ]
    },
    {
     "name": "stdout",
     "output_type": "stream",
     "text": [
      "Epoch 16 / 50, Train Loss: 0.8864655028029186, Validation Loss: 0.8914553048541245, Validation Accuracy: 0.6254955779200976\n"
     ]
    },
    {
     "name": "stderr",
     "output_type": "stream",
     "text": [
      "100%|██████████| 410/410 [00:48<00:00,  8.37it/s]\n"
     ]
    },
    {
     "name": "stdout",
     "output_type": "stream",
     "text": [
      "Epoch 17 / 50, Train Loss: 0.8794796367970908, Validation Loss: 0.888984852624171, Validation Accuracy: 0.6248856358645929\n"
     ]
    },
    {
     "name": "stderr",
     "output_type": "stream",
     "text": [
      "100%|██████████| 410/410 [00:53<00:00,  7.73it/s]\n"
     ]
    },
    {
     "name": "stdout",
     "output_type": "stream",
     "text": [
      "Epoch 18 / 50, Train Loss: 0.8739265421541725, Validation Loss: 0.88887921062488, Validation Accuracy: 0.6236657517535834\n"
     ]
    },
    {
     "name": "stderr",
     "output_type": "stream",
     "text": [
      "100%|██████████| 410/410 [00:52<00:00,  7.76it/s]\n"
     ]
    },
    {
     "name": "stdout",
     "output_type": "stream",
     "text": [
      "Epoch 19 / 50, Train Loss: 0.8729926256144919, Validation Loss: 0.8942816135952774, Validation Accuracy: 0.6129917657822507\n"
     ]
    },
    {
     "name": "stderr",
     "output_type": "stream",
     "text": [
      "100%|██████████| 410/410 [00:52<00:00,  7.76it/s]\n"
     ]
    },
    {
     "name": "stdout",
     "output_type": "stream",
     "text": [
      "Epoch 20 / 50, Train Loss: 0.8695267203377515, Validation Loss: 0.8905934315283321, Validation Accuracy: 0.623360780725831\n"
     ]
    },
    {
     "name": "stderr",
     "output_type": "stream",
     "text": [
      "100%|██████████| 410/410 [00:52<00:00,  7.75it/s]\n"
     ]
    },
    {
     "name": "stdout",
     "output_type": "stream",
     "text": [
      "Epoch 21 / 50, Train Loss: 0.8693317619765677, Validation Loss: 0.899297486231165, Validation Accuracy: 0.6276303751143641\n"
     ]
    },
    {
     "name": "stderr",
     "output_type": "stream",
     "text": [
      "100%|██████████| 410/410 [00:52<00:00,  7.86it/s]\n"
     ]
    },
    {
     "name": "stdout",
     "output_type": "stream",
     "text": [
      "Epoch 22 / 50, Train Loss: 0.8663053525657188, Validation Loss: 0.8811626845193141, Validation Accuracy: 0.6328148825861544\n"
     ]
    },
    {
     "name": "stderr",
     "output_type": "stream",
     "text": [
      "100%|██████████| 410/410 [00:54<00:00,  7.57it/s]\n"
     ]
    },
    {
     "name": "stdout",
     "output_type": "stream",
     "text": [
      "Epoch 23 / 50, Train Loss: 0.8612009474417058, Validation Loss: 0.8846399951907038, Validation Accuracy: 0.6303751143641354\n"
     ]
    },
    {
     "name": "stderr",
     "output_type": "stream",
     "text": [
      "100%|██████████| 410/410 [00:51<00:00,  8.01it/s]\n"
     ]
    },
    {
     "name": "stdout",
     "output_type": "stream",
     "text": [
      "Epoch 24 / 50, Train Loss: 0.8586358343682639, Validation Loss: 0.8819761455637737, Validation Accuracy: 0.6297651723086307\n"
     ]
    },
    {
     "name": "stderr",
     "output_type": "stream",
     "text": [
      "100%|██████████| 410/410 [00:52<00:00,  7.82it/s]\n"
     ]
    },
    {
     "name": "stdout",
     "output_type": "stream",
     "text": [
      "Epoch 25 / 50, Train Loss: 0.8625249978972644, Validation Loss: 0.8803913610652813, Validation Accuracy: 0.6306800853918878\n"
     ]
    },
    {
     "name": "stderr",
     "output_type": "stream",
     "text": [
      "100%|██████████| 410/410 [00:53<00:00,  7.73it/s]\n"
     ]
    },
    {
     "name": "stdout",
     "output_type": "stream",
     "text": [
      "Epoch 26 / 50, Train Loss: 0.8550741515508512, Validation Loss: 0.8854154238423098, Validation Accuracy: 0.6318999695028972\n"
     ]
    },
    {
     "name": "stderr",
     "output_type": "stream",
     "text": [
      "100%|██████████| 410/410 [00:51<00:00,  8.03it/s]\n"
     ]
    },
    {
     "name": "stdout",
     "output_type": "stream",
     "text": [
      "Epoch 27 / 50, Train Loss: 0.8550769166248601, Validation Loss: 0.8828535288282968, Validation Accuracy: 0.6297651723086307\n"
     ]
    },
    {
     "name": "stderr",
     "output_type": "stream",
     "text": [
      "100%|██████████| 410/410 [00:50<00:00,  8.14it/s]\n"
     ]
    },
    {
     "name": "stdout",
     "output_type": "stream",
     "text": [
      "Epoch 28 / 50, Train Loss: 0.8552893267899024, Validation Loss: 0.8780126253378044, Validation Accuracy: 0.6264104910033547\n"
     ]
    },
    {
     "name": "stderr",
     "output_type": "stream",
     "text": [
      "100%|██████████| 410/410 [00:51<00:00,  7.98it/s]\n"
     ]
    },
    {
     "name": "stdout",
     "output_type": "stream",
     "text": [
      "Epoch 29 / 50, Train Loss: 0.8516762987869542, Validation Loss: 0.8766361729612628, Validation Accuracy: 0.6328148825861544\n"
     ]
    },
    {
     "name": "stderr",
     "output_type": "stream",
     "text": [
      "100%|██████████| 410/410 [00:52<00:00,  7.85it/s]\n"
     ]
    },
    {
     "name": "stdout",
     "output_type": "stream",
     "text": [
      "Epoch 30 / 50, Train Loss: 0.8511727093196497, Validation Loss: 0.875677507479214, Validation Accuracy: 0.6364745349191827\n"
     ]
    },
    {
     "name": "stderr",
     "output_type": "stream",
     "text": [
      "100%|██████████| 410/410 [00:54<00:00,  7.58it/s]\n"
     ]
    },
    {
     "name": "stdout",
     "output_type": "stream",
     "text": [
      "Epoch 31 / 50, Train Loss: 0.8490740658306494, Validation Loss: 0.8799895794646254, Validation Accuracy: 0.62580054894785\n"
     ]
    },
    {
     "name": "stderr",
     "output_type": "stream",
     "text": [
      "100%|██████████| 410/410 [00:51<00:00,  7.89it/s]\n"
     ]
    },
    {
     "name": "stdout",
     "output_type": "stream",
     "text": [
      "Epoch 32 / 50, Train Loss: 0.8481891323880452, Validation Loss: 0.8768791637374359, Validation Accuracy: 0.6322049405306496\n"
     ]
    },
    {
     "name": "stderr",
     "output_type": "stream",
     "text": [
      "100%|██████████| 410/410 [00:50<00:00,  8.19it/s]\n"
     ]
    },
    {
     "name": "stdout",
     "output_type": "stream",
     "text": [
      "Epoch 33 / 50, Train Loss: 0.8463229348019856, Validation Loss: 0.8788508958029515, Validation Accuracy: 0.6306800853918878\n"
     ]
    },
    {
     "name": "stderr",
     "output_type": "stream",
     "text": [
      "100%|██████████| 410/410 [00:51<00:00,  8.02it/s]\n"
     ]
    },
    {
     "name": "stdout",
     "output_type": "stream",
     "text": [
      "Epoch 34 / 50, Train Loss: 0.8443415907824912, Validation Loss: 0.8751653230306015, Validation Accuracy: 0.6276303751143641\n"
     ]
    },
    {
     "name": "stderr",
     "output_type": "stream",
     "text": [
      "100%|██████████| 410/410 [00:53<00:00,  7.68it/s]\n"
     ]
    },
    {
     "name": "stdout",
     "output_type": "stream",
     "text": [
      "Epoch 35 / 50, Train Loss: 0.8414326509324516, Validation Loss: 0.8787481588067361, Validation Accuracy: 0.6236657517535834\n"
     ]
    },
    {
     "name": "stderr",
     "output_type": "stream",
     "text": [
      "100%|██████████| 410/410 [00:51<00:00,  7.94it/s]\n"
     ]
    },
    {
     "name": "stdout",
     "output_type": "stream",
     "text": [
      "Epoch 36 / 50, Train Loss: 0.8425649615322671, Validation Loss: 0.8754061848214529, Validation Accuracy: 0.6273254040866117\n"
     ]
    },
    {
     "name": "stderr",
     "output_type": "stream",
     "text": [
      "100%|██████████| 410/410 [00:51<00:00,  8.00it/s]\n"
     ]
    },
    {
     "name": "stdout",
     "output_type": "stream",
     "text": [
      "Epoch 37 / 50, Train Loss: 0.8402424655309537, Validation Loss: 0.8770530252780729, Validation Accuracy: 0.6224458676425739\n"
     ]
    },
    {
     "name": "stderr",
     "output_type": "stream",
     "text": [
      "100%|██████████| 410/410 [00:51<00:00,  7.90it/s]\n"
     ]
    },
    {
     "name": "stdout",
     "output_type": "stream",
     "text": [
      "Epoch 38 / 50, Train Loss: 0.8381622235949446, Validation Loss: 0.8772719797578831, Validation Accuracy: 0.6276303751143641\n"
     ]
    },
    {
     "name": "stderr",
     "output_type": "stream",
     "text": [
      "100%|██████████| 410/410 [00:53<00:00,  7.73it/s]\n"
     ]
    },
    {
     "name": "stdout",
     "output_type": "stream",
     "text": [
      "Epoch 39 / 50, Train Loss: 0.8392298555228769, Validation Loss: 0.8788347122738662, Validation Accuracy: 0.62580054894785\n"
     ]
    },
    {
     "name": "stderr",
     "output_type": "stream",
     "text": [
      "100%|██████████| 410/410 [00:52<00:00,  7.87it/s]\n"
     ]
    },
    {
     "name": "stdout",
     "output_type": "stream",
     "text": [
      "Epoch 40 / 50, Train Loss: 0.8334562290005567, Validation Loss: 0.8808266908219717, Validation Accuracy: 0.6236657517535834\n"
     ]
    },
    {
     "name": "stderr",
     "output_type": "stream",
     "text": [
      "100%|██████████| 410/410 [00:52<00:00,  7.81it/s]\n"
     ]
    },
    {
     "name": "stdout",
     "output_type": "stream",
     "text": [
      "Epoch 41 / 50, Train Loss: 0.8366140542960748, Validation Loss: 0.8759077197139703, Validation Accuracy: 0.6312900274473925\n"
     ]
    },
    {
     "name": "stderr",
     "output_type": "stream",
     "text": [
      "100%|██████████| 410/410 [00:53<00:00,  7.68it/s]\n"
     ]
    },
    {
     "name": "stdout",
     "output_type": "stream",
     "text": [
      "Epoch 42 / 50, Train Loss: 0.8384565197839969, Validation Loss: 0.8777696548156368, Validation Accuracy: 0.6273254040866117\n"
     ]
    },
    {
     "name": "stderr",
     "output_type": "stream",
     "text": [
      "100%|██████████| 410/410 [00:52<00:00,  7.81it/s]\n"
     ]
    },
    {
     "name": "stdout",
     "output_type": "stream",
     "text": [
      "Epoch 43 / 50, Train Loss: 0.8376564854528846, Validation Loss: 0.8796822278244981, Validation Accuracy: 0.6227508386703263\n"
     ]
    },
    {
     "name": "stderr",
     "output_type": "stream",
     "text": [
      "100%|██████████| 410/410 [00:49<00:00,  8.27it/s]\n"
     ]
    },
    {
     "name": "stdout",
     "output_type": "stream",
     "text": [
      "Epoch 44 / 50, Train Loss: 0.835794086136469, Validation Loss: 0.877493156970126, Validation Accuracy: 0.6254955779200976\n"
     ]
    },
    {
     "name": "stderr",
     "output_type": "stream",
     "text": [
      "100%|██████████| 410/410 [00:52<00:00,  7.76it/s]\n"
     ]
    },
    {
     "name": "stdout",
     "output_type": "stream",
     "text": [
      "Epoch 45 / 50, Train Loss: 0.8358506851079988, Validation Loss: 0.8805960584612726, Validation Accuracy: 0.6285452881976212\n"
     ]
    },
    {
     "name": "stderr",
     "output_type": "stream",
     "text": [
      "100%|██████████| 410/410 [00:51<00:00,  7.93it/s]\n"
     ]
    },
    {
     "name": "stdout",
     "output_type": "stream",
     "text": [
      "Epoch 46 / 50, Train Loss: 0.8312700213455573, Validation Loss: 0.8797271674119153, Validation Accuracy: 0.6358645928636779\n"
     ]
    },
    {
     "name": "stderr",
     "output_type": "stream",
     "text": [
      "100%|██████████| 410/410 [00:53<00:00,  7.68it/s]\n"
     ]
    },
    {
     "name": "stdout",
     "output_type": "stream",
     "text": [
      "Epoch 47 / 50, Train Loss: 0.8362385438709724, Validation Loss: 0.8751340994557131, Validation Accuracy: 0.6306800853918878\n"
     ]
    },
    {
     "name": "stderr",
     "output_type": "stream",
     "text": [
      "100%|██████████| 410/410 [00:53<00:00,  7.64it/s]\n"
     ]
    },
    {
     "name": "stdout",
     "output_type": "stream",
     "text": [
      "Epoch 48 / 50, Train Loss: 0.8304752916824527, Validation Loss: 0.8744288544053013, Validation Accuracy: 0.6242756938090881\n"
     ]
    },
    {
     "name": "stderr",
     "output_type": "stream",
     "text": [
      "100%|██████████| 410/410 [00:47<00:00,  8.69it/s]\n"
     ]
    },
    {
     "name": "stdout",
     "output_type": "stream",
     "text": [
      "Epoch 49 / 50, Train Loss: 0.8250016087439002, Validation Loss: 0.8759355759157718, Validation Accuracy: 0.6267154620311071\n"
     ]
    },
    {
     "name": "stderr",
     "output_type": "stream",
     "text": [
      "100%|██████████| 410/410 [00:45<00:00,  9.06it/s]\n"
     ]
    },
    {
     "name": "stdout",
     "output_type": "stream",
     "text": [
      "Epoch 50 / 50, Train Loss: 0.8301716074710939, Validation Loss: 0.8776967062533481, Validation Accuracy: 0.6303751143641354\n"
     ]
    },
    {
     "data": {
      "image/png": "[encoded data removed]",
      "text/plain": [
       "<Figure size 1200x500 with 2 Axes>"
      ]
     },
     "metadata": {},
     "output_type": "display_data"
    }
   ],
   "source": [
    "train_losses_cnn = []\n",
    "val_losses_cnn = []\n",
    "val_accuracies_cnn = []\n",
    "\n",
    "num_epochs = 50\n",
    "for epoch in range(num_epochs):\n",
    "    model_cnn.train()\n",
    "    losses = []\n",
    "    for batch in tqdm(train_loader):\n",
    "        optimizer_cnn.zero_grad()\n",
    "        input_ids = batch[\"input_ids\"].to(device)\n",
    "        labels = batch[\"labels\"].to(device)\n",
    "        outputs = model_cnn(input_ids)\n",
    "        loss = loss_fn(outputs, labels)\n",
    "        loss.backward()\n",
    "        optimizer_cnn.step()\n",
    "        losses.append(loss.item())\n",
    "    train_losses_cnn.append(np.mean(losses))\n",
    "\n",
    "    model_cnn.eval()\n",
    "    val_loss = 0\n",
    "    val_steps = 0\n",
    "    val_preds = []\n",
    "    val_labels_list = []\n",
    "    with torch.no_grad():\n",
    "        for batch in val_loader:\n",
    "            input_ids = batch[\"input_ids\"].to(device)\n",
    "            labels = batch[\"labels\"].to(device)\n",
    "            outputs = model_cnn(input_ids)\n",
    "            loss = loss_fn(outputs, labels)\n",
    "            val_loss += loss.item()\n",
    "            val_steps += 1\n",
    "\n",
    "            val_preds.extend(torch.argmax(outputs, dim=1).cpu().numpy())\n",
    "            val_labels_list.extend(labels.cpu().numpy())\n",
    "\n",
    "    val_losses_cnn.append(val_loss / val_steps)\n",
    "    val_accuracy = accuracy_score(val_labels_list, val_preds)\n",
    "    val_accuracies_cnn.append(val_accuracy)\n",
    "    print(f'Epoch {epoch+1} / {num_epochs}, Train Loss: {np.mean(losses)}, Validation Loss: {val_loss / val_steps}, Validation Accuracy: {val_accuracy}')\n",
    "\n",
    "plt.figure(figsize=(12, 5))\n",
    "\n",
    "plt.subplot(1, 2, 1)\n",
    "plt.plot(train_losses_cnn, label='Train Loss')\n",
    "plt.plot(val_losses_cnn, label='Validation Loss')\n",
    "plt.title('CNN: Loss over epochs')\n",
    "plt.xlabel('Epoch')\n",
    "plt.ylabel('Loss')\n",
    "plt.legend()\n",
    "\n",
    "plt.subplot(1, 2, 2)\n",
    "plt.plot(val_accuracies_cnn, label='Validation Accuracy')\n",
    "plt.title('CNN: Validation Accuracy over epochs')\n",
    "plt.xlabel('Epoch')\n",
    "plt.ylabel('Accuracy')\n",
    "plt.legend()\n",
    "\n",
    "plt.show()"
   ]
  },
  {
   "cell_type": "markdown",
   "id": "af780583",
   "metadata": {},
   "source": [
    "### CNN wnioski\n",
    "- 65% dokładności\n",
    "- dodanie sparafrazowanych tekstów poprawiło dokładność, ale jest to zależne również od innych parametrów\n",
    "- zmniejszenie długości embeddingu przyspieszyło uczenie, ale pogorszyło dokładność\n",
    "- normalizacja L2  zapobiega przeuczeniu\n",
    "- zbyt duża wartość weight_decay znacznie pogarsza dokładność"
   ]
  },
  {
   "cell_type": "code",
   "execution_count": null,
   "id": "4525c9aee0805dcc",
   "metadata": {
    "ExecuteTime": {
     "end_time": "2024-06-12T17:42:48.883420700Z",
     "start_time": "2024-06-12T17:42:48.881428900Z"
    },
    "collapsed": false
   },
   "outputs": [],
   "source": [
    "# num_epochs = 10\n",
    "# for epoch in range(num_epochs):\n",
    "#     model_cnn.train()\n",
    "#     losses = []\n",
    "#     for batch in tqdm(train_loader):\n",
    "#         optimizer_cnn.zero_grad()\n",
    "#         input_ids = batch[\"input_ids\"].to(device)\n",
    "#         labels = batch[\"labels\"].to(device)\n",
    "#         outputs = model_cnn(input_ids)\n",
    "#         loss = loss_fn(outputs, labels)\n",
    "#         loss.backward()\n",
    "#         optimizer_cnn.step()\n",
    "#         losses.append(loss.item())\n",
    "#     print(f'Epoch {epoch+1}, Loss: {np.mean(losses)}')"
   ]
  },
  {
   "cell_type": "code",
   "execution_count": null,
   "id": "56bb40fa41fcc89f",
   "metadata": {
    "ExecuteTime": {
     "end_time": "2024-06-12T17:42:48.897880800Z",
     "start_time": "2024-06-12T17:42:48.882420500Z"
    },
    "collapsed": false
   },
   "outputs": [],
   "source": [
    "# model_cnn.eval()\n",
    "# correct_predictions = 0\n",
    "# with torch.no_grad():\n",
    "#     for batch in val_loader:\n",
    "#         input_ids = batch[\"input_ids\"].to(device)\n",
    "#         labels = batch[\"labels\"].to(device)\n",
    "#         outputs = model_cnn(input_ids)\n",
    "#         _, preds = torch.max(outputs, dim=1)\n",
    "#         correct_predictions += torch.sum(preds == labels)\n",
    "# print(f'Validation Accuracy: {correct_predictions.double() / len(val_dataset)}')"
   ]
  },
  {
   "cell_type": "markdown",
   "id": "959d3ca6022a589b",
   "metadata": {
    "collapsed": false
   },
   "source": [
    "## LSTM"
   ]
  },
  {
   "cell_type": "code",
   "execution_count": 31,
   "id": "ec7a7465c7ec6a5c",
   "metadata": {
    "ExecuteTime": {
     "end_time": "2024-06-12T17:42:48.902692800Z",
     "start_time": "2024-06-12T17:42:48.900882400Z"
    },
    "collapsed": false
   },
   "outputs": [],
   "source": [
    "class LSTM_Text(nn.Module):\n",
    "    def __init__(self, embed_num, embed_dim, class_num, hidden_dim, n_layers, dropout):\n",
    "        super(LSTM_Text, self).__init__()\n",
    "        self.embed = nn.Embedding(embed_num, embed_dim)\n",
    "        self.lstm = nn.LSTM(embed_dim, hidden_dim, n_layers, batch_first=True, dropout=dropout)\n",
    "        self.fc = nn.Linear(hidden_dim, class_num)\n",
    "        self.dropout = nn.Dropout(dropout)\n",
    "\n",
    "    def forward(self, x):\n",
    "        x = self.embed(x)\n",
    "        x, _ = self.lstm(x)\n",
    "        x = self.dropout(x)\n",
    "        x = self.fc(x[:, -1, :])\n",
    "        return x"
   ]
  },
  {
   "cell_type": "code",
   "execution_count": 32,
   "id": "446085b69a35b05d",
   "metadata": {
    "ExecuteTime": {
     "end_time": "2024-06-12T17:42:48.997715400Z",
     "start_time": "2024-06-12T17:42:48.903686800Z"
    },
    "collapsed": false
   },
   "outputs": [],
   "source": [
    "hidden_dim = 256 # oryginalnie 256\n",
    "n_layers = 2 # oryginalnie 2 warstwy\n",
    "\n",
    "model_lstm = LSTM_Text(vocab_size, embed_dim, class_num, hidden_dim, n_layers, dropout).to(device)\n",
    "optimizer_lstm  = optim.Adam(model_lstm.parameters(), lr=0.001, weight_decay=0.001)\n",
    "loss_fn = nn.CrossEntropyLoss()"
   ]
  },
  {
   "cell_type": "code",
   "execution_count": 33,
   "id": "6d3520d0d9435a8e",
   "metadata": {
    "ExecuteTime": {
     "end_time": "2024-06-12T17:48:03.778238800Z",
     "start_time": "2024-06-12T17:42:48.948704400Z"
    },
    "collapsed": false
   },
   "outputs": [
    {
     "name": "stderr",
     "output_type": "stream",
     "text": [
      "100%|██████████| 410/410 [00:43<00:00,  9.50it/s]\n"
     ]
    },
    {
     "name": "stdout",
     "output_type": "stream",
     "text": [
      "Epoch 1 / 20, Train Loss: 1.362992609564851, Validation Loss: 1.363792594196727, Validation Accuracy: 0.4434278743519366\n"
     ]
    },
    {
     "name": "stderr",
     "output_type": "stream",
     "text": [
      "100%|██████████| 410/410 [00:43<00:00,  9.53it/s]\n"
     ]
    },
    {
     "name": "stdout",
     "output_type": "stream",
     "text": [
      "Epoch 2 / 20, Train Loss: 1.356542061596382, Validation Loss: 1.3541000838418609, Validation Accuracy: 0.44190301921317476\n"
     ]
    },
    {
     "name": "stderr",
     "output_type": "stream",
     "text": [
      "100%|██████████| 410/410 [00:46<00:00,  8.77it/s]\n"
     ]
    },
    {
     "name": "stdout",
     "output_type": "stream",
     "text": [
      "Epoch 3 / 20, Train Loss: 1.3462973754580427, Validation Loss: 1.3403642108139482, Validation Accuracy: 0.4455626715462031\n"
     ]
    },
    {
     "name": "stderr",
     "output_type": "stream",
     "text": [
      "100%|██████████| 410/410 [00:48<00:00,  8.46it/s]\n"
     ]
    },
    {
     "name": "stdout",
     "output_type": "stream",
     "text": [
      "Epoch 4 / 20, Train Loss: 1.3450431253851913, Validation Loss: 1.3658508455869063, Validation Accuracy: 0.44586764257395545\n"
     ]
    },
    {
     "name": "stderr",
     "output_type": "stream",
     "text": [
      "100%|██████████| 410/410 [00:48<00:00,  8.40it/s]\n"
     ]
    },
    {
     "name": "stdout",
     "output_type": "stream",
     "text": [
      "Epoch 5 / 20, Train Loss: 1.357979381665951, Validation Loss: 1.3563489613023776, Validation Accuracy: 0.44129307715767\n"
     ]
    },
    {
     "name": "stderr",
     "output_type": "stream",
     "text": [
      "100%|██████████| 410/410 [00:47<00:00,  8.67it/s]\n"
     ]
    },
    {
     "name": "stdout",
     "output_type": "stream",
     "text": [
      "Epoch 6 / 20, Train Loss: 1.357430396138168, Validation Loss: 1.3557722684249138, Validation Accuracy: 0.44129307715767\n"
     ]
    },
    {
     "name": "stderr",
     "output_type": "stream",
     "text": [
      "100%|██████████| 410/410 [00:44<00:00,  9.16it/s]\n"
     ]
    },
    {
     "name": "stdout",
     "output_type": "stream",
     "text": [
      "Epoch 7 / 20, Train Loss: 1.3573053644924629, Validation Loss: 1.3553370735020314, Validation Accuracy: 0.44129307715767\n"
     ]
    },
    {
     "name": "stderr",
     "output_type": "stream",
     "text": [
      "100%|██████████| 410/410 [00:44<00:00,  9.25it/s]\n"
     ]
    },
    {
     "name": "stdout",
     "output_type": "stream",
     "text": [
      "Epoch 8 / 20, Train Loss: 1.3570346018163169, Validation Loss: 1.3667361342791216, Validation Accuracy: 0.44129307715767\n"
     ]
    },
    {
     "name": "stderr",
     "output_type": "stream",
     "text": [
      "100%|██████████| 410/410 [00:44<00:00,  9.31it/s]\n"
     ]
    },
    {
     "name": "stdout",
     "output_type": "stream",
     "text": [
      "Epoch 9 / 20, Train Loss: 1.3572779370517265, Validation Loss: 1.355291630457906, Validation Accuracy: 0.44129307715767\n"
     ]
    },
    {
     "name": "stderr",
     "output_type": "stream",
     "text": [
      "100%|██████████| 410/410 [00:45<00:00,  8.94it/s]\n"
     ]
    },
    {
     "name": "stdout",
     "output_type": "stream",
     "text": [
      "Epoch 10 / 20, Train Loss: 1.3566535237358837, Validation Loss: 1.3554196647069987, Validation Accuracy: 0.44129307715767\n"
     ]
    },
    {
     "name": "stderr",
     "output_type": "stream",
     "text": [
      "100%|██████████| 410/410 [00:45<00:00,  9.02it/s]\n"
     ]
    },
    {
     "name": "stdout",
     "output_type": "stream",
     "text": [
      "Epoch 11 / 20, Train Loss: 1.3555073389192906, Validation Loss: 1.3610706549246334, Validation Accuracy: 0.44129307715767\n"
     ]
    },
    {
     "name": "stderr",
     "output_type": "stream",
     "text": [
      "100%|██████████| 410/410 [00:47<00:00,  8.60it/s]\n"
     ]
    },
    {
     "name": "stdout",
     "output_type": "stream",
     "text": [
      "Epoch 12 / 20, Train Loss: 1.3533266843819036, Validation Loss: 1.3586353063583374, Validation Accuracy: 0.44129307715767\n"
     ]
    },
    {
     "name": "stderr",
     "output_type": "stream",
     "text": [
      "100%|██████████| 410/410 [00:45<00:00,  9.10it/s]\n"
     ]
    },
    {
     "name": "stdout",
     "output_type": "stream",
     "text": [
      "Epoch 13 / 20, Train Loss: 1.3548793525230594, Validation Loss: 1.3558130553625163, Validation Accuracy: 0.44129307715767\n"
     ]
    },
    {
     "name": "stderr",
     "output_type": "stream",
     "text": [
      "100%|██████████| 410/410 [00:47<00:00,  8.56it/s]\n"
     ]
    },
    {
     "name": "stdout",
     "output_type": "stream",
     "text": [
      "Epoch 14 / 20, Train Loss: 1.3537543618097538, Validation Loss: 1.3548209424157744, Validation Accuracy: 0.44129307715767\n"
     ]
    },
    {
     "name": "stderr",
     "output_type": "stream",
     "text": [
      "100%|██████████| 410/410 [00:48<00:00,  8.53it/s]\n"
     ]
    },
    {
     "name": "stdout",
     "output_type": "stream",
     "text": [
      "Epoch 15 / 20, Train Loss: 1.3544756120297967, Validation Loss: 1.3566254701429201, Validation Accuracy: 0.44129307715767\n"
     ]
    },
    {
     "name": "stderr",
     "output_type": "stream",
     "text": [
      "100%|██████████| 410/410 [00:45<00:00,  9.04it/s]\n"
     ]
    },
    {
     "name": "stdout",
     "output_type": "stream",
     "text": [
      "Epoch 16 / 20, Train Loss: 1.3540441943377983, Validation Loss: 1.3558029052123284, Validation Accuracy: 0.44129307715767\n"
     ]
    },
    {
     "name": "stderr",
     "output_type": "stream",
     "text": [
      "100%|██████████| 410/410 [00:43<00:00,  9.34it/s]\n"
     ]
    },
    {
     "name": "stdout",
     "output_type": "stream",
     "text": [
      "Epoch 17 / 20, Train Loss: 1.352896606340641, Validation Loss: 1.3565929364232183, Validation Accuracy: 0.44129307715767\n"
     ]
    },
    {
     "name": "stderr",
     "output_type": "stream",
     "text": [
      "100%|██████████| 410/410 [00:45<00:00,  8.98it/s]\n"
     ]
    },
    {
     "name": "stdout",
     "output_type": "stream",
     "text": [
      "Epoch 18 / 20, Train Loss: 1.3521888386912462, Validation Loss: 1.356441400583508, Validation Accuracy: 0.44129307715767\n"
     ]
    },
    {
     "name": "stderr",
     "output_type": "stream",
     "text": [
      "100%|██████████| 410/410 [00:46<00:00,  8.75it/s]\n"
     ]
    },
    {
     "name": "stdout",
     "output_type": "stream",
     "text": [
      "Epoch 19 / 20, Train Loss: 1.3537245398614464, Validation Loss: 1.3583580255508423, Validation Accuracy: 0.44129307715767\n"
     ]
    },
    {
     "name": "stderr",
     "output_type": "stream",
     "text": [
      "100%|██████████| 410/410 [00:45<00:00,  9.02it/s]\n"
     ]
    },
    {
     "name": "stdout",
     "output_type": "stream",
     "text": [
      "Epoch 20 / 20, Train Loss: 1.351738121451401, Validation Loss: 1.355028532083752, Validation Accuracy: 0.44129307715767\n"
     ]
    },
    {
     "data": {
      "image/png": "[encoded data removed]",
      "text/plain": [
       "<Figure size 1200x500 with 2 Axes>"
      ]
     },
     "metadata": {},
     "output_type": "display_data"
    }
   ],
   "source": [
    "train_losses_lstm = []\n",
    "val_losses_lstm = []\n",
    "val_accuracies_lstm = []\n",
    "\n",
    "num_epochs = 20\n",
    "for epoch in range(num_epochs):\n",
    "    model_lstm.train()\n",
    "    losses = []\n",
    "    for batch in tqdm(train_loader):\n",
    "        optimizer_lstm.zero_grad()\n",
    "        input_ids = batch[\"input_ids\"].to(device)\n",
    "        labels = batch[\"labels\"].to(device)\n",
    "        outputs = model_lstm(input_ids)\n",
    "        loss = loss_fn(outputs, labels)\n",
    "        loss.backward()\n",
    "        optimizer_lstm.step()\n",
    "        losses.append(loss.item())\n",
    "    train_losses_lstm.append(np.mean(losses))\n",
    "\n",
    "    model_lstm.eval()\n",
    "    val_loss = 0\n",
    "    val_steps = 0\n",
    "    val_preds = []\n",
    "    val_labels_list = []\n",
    "    with torch.no_grad():\n",
    "        for batch in val_loader:\n",
    "            input_ids = batch[\"input_ids\"].to(device)\n",
    "            labels = batch[\"labels\"].to(device)\n",
    "            outputs = model_lstm(input_ids)\n",
    "            loss = loss_fn(outputs, labels)\n",
    "            val_loss += loss.item()\n",
    "            val_steps += 1\n",
    "\n",
    "            val_preds.extend(torch.argmax(outputs, dim=1).cpu().numpy())\n",
    "            val_labels_list.extend(labels.cpu().numpy())\n",
    "\n",
    "    val_losses_lstm.append(val_loss / val_steps)\n",
    "    val_accuracy = accuracy_score(val_labels_list, val_preds)\n",
    "    val_accuracies_lstm.append(val_accuracy)\n",
    "    print(f'Epoch {epoch+1} / {num_epochs}, Train Loss: {np.mean(losses)}, Validation Loss: {val_loss / val_steps}, Validation Accuracy: {val_accuracy}')\n",
    "\n",
    "plt.figure(figsize=(12, 5))\n",
    "\n",
    "plt.subplot(1, 2, 1)\n",
    "plt.plot(train_losses_lstm, label='Train Loss')\n",
    "plt.plot(val_losses_lstm, label='Validation Loss')\n",
    "plt.title('LSTM: Loss over epochs')\n",
    "plt.xlabel('Epoch')\n",
    "plt.ylabel('Loss')\n",
    "plt.legend()\n",
    "\n",
    "plt.subplot(1, 2, 2)\n",
    "plt.plot(val_accuracies_lstm, label='Validation Accuracy')\n",
    "plt.title('LSTM: Validation Accuracy over epochs')\n",
    "plt.xlabel('Epoch')\n",
    "plt.ylabel('Accuracy')\n",
    "plt.legend()\n",
    "\n",
    "plt.show()"
   ]
  },
  {
   "cell_type": "markdown",
   "id": "99eb13bf",
   "metadata": {},
   "source": [
    "### LSTM wnioski\n",
    "- dokładność około 58%\n",
    "- dataset z parafrazami w niewielkim stopniu poprawił wynik\n",
    "- regularyzacja nieznacznie poprawiła wynik\n",
    "- zwiększenie liczby warstw nie pomogło\n",
    "- uczenie dosyć niestabilne"
   ]
  },
  {
   "cell_type": "code",
   "execution_count": null,
   "id": "38ed6864f1c8c12e",
   "metadata": {
    "ExecuteTime": {
     "end_time": "2024-06-12T17:48:03.782194200Z",
     "start_time": "2024-06-12T17:48:03.781197700Z"
    },
    "collapsed": false
   },
   "outputs": [],
   "source": [
    "# num_epochs = 10\n",
    "# for epoch in range(num_epochs):\n",
    "#     model_lstm.train()\n",
    "#     losses = []\n",
    "#     for batch in tqdm(train_loader):\n",
    "#         optimizer_lstm .zero_grad()\n",
    "#         input_ids = batch[\"input_ids\"].to(device)\n",
    "#         labels = batch[\"labels\"].to(device)\n",
    "#         outputs = model_lstm(input_ids)\n",
    "#         loss = loss_fn(outputs, labels)\n",
    "#         loss.backward()\n",
    "#         optimizer_lstm .step()\n",
    "#         losses.append(loss.item())\n",
    "#     print(f'Epoch {epoch+1}, Loss: {np.mean(losses)}')"
   ]
  },
  {
   "cell_type": "code",
   "execution_count": null,
   "id": "2c7ee5cb1e0631a2",
   "metadata": {
    "ExecuteTime": {
     "end_time": "2024-06-12T17:48:03.788920400Z",
     "start_time": "2024-06-12T17:48:03.783194800Z"
    },
    "collapsed": false
   },
   "outputs": [],
   "source": [
    "# model_lstm.eval()\n",
    "# correct_predictions = 0\n",
    "# with torch.no_grad():\n",
    "#     for batch in val_loader:\n",
    "#         input_ids = batch[\"input_ids\"].to(device)\n",
    "#         labels = batch[\"labels\"].to(device)\n",
    "#         outputs = model_lstm(input_ids)\n",
    "#         _, preds = torch.max(outputs, dim=1)\n",
    "#         correct_predictions += torch.sum(preds == labels)\n",
    "# print(f'Validation Accuracy: {correct_predictions.double() / len(val_dataset)}')"
   ]
  },
  {
   "cell_type": "code",
   "execution_count": 34,
   "id": "df9740b830df38f3",
   "metadata": {
    "ExecuteTime": {
     "end_time": "2024-06-12T18:17:01.134875100Z",
     "start_time": "2024-06-12T18:16:54.088695600Z"
    },
    "collapsed": false
   },
   "outputs": [
    {
     "name": "stderr",
     "output_type": "stream",
     "text": [
      "100%|██████████| 33/33 [00:10<00:00,  3.25it/s]\n"
     ]
    }
   ],
   "source": [
    "df_test_data = pd.read_csv(\"test_data.csv\", header=None)\n",
    "test_reviews = df_test_data[0].tolist()\n",
    "\n",
    "test_dataset = TextDataset(test_reviews, [0]*len(test_reviews), tokenizer=tokenizer)\n",
    "test_loader = DataLoader(test_dataset, batch_size=128, shuffle=False)\n",
    "\n",
    "model_cnn.eval()\n",
    "test_preds = []\n",
    "with torch.no_grad():\n",
    "    for batch in tqdm(test_loader):\n",
    "        input_ids = batch[\"input_ids\"].to(device)\n",
    "        # attention_mask = batch[\"attention_mask\"].to(device)\n",
    "        outputs = model_cnn(input_ids)\n",
    "        _, preds = torch.max(outputs, dim=1)\n",
    "        test_preds.extend(preds.cpu().numpy())\n",
    "\n",
    "results_df = pd.DataFrame(test_preds)\n",
    "results_df.to_csv(\"poniedzialek_grądziel_misztal.csv\", index=False, header=False)"
   ]
  }
 ],
 "metadata": {
  "kernelspec": {
   "display_name": "Python 3",
   "language": "python",
   "name": "python3"
  },
  "language_info": {
   "codemirror_mode": {
    "name": "ipython",
    "version": 3
   },
   "file_extension": ".py",
   "mimetype": "text/x-python",
   "name": "python",
   "nbconvert_exporter": "python",
   "pygments_lexer": "ipython3",
   "version": "3.11.1"
  }
 },
 "nbformat": 4,
 "nbformat_minor": 5
}
